{
  "cells": [
    {
      "cell_type": "markdown",
      "metadata": {
        "id": "jVsUg43RNlAP"
      },
      "source": [
        "# Setup YOLO11\n",
        "\n",
        "Pip install `ultralytics` and [dependencies](https://github.com/ultralytics/ultralytics/blob/main/requirements.txt) and check software and hardware."
      ]
    },
    {
      "cell_type": "code",
      "execution_count": 1,
      "metadata": {
        "colab": {
          "base_uri": "https://localhost:8080/"
        },
        "id": "49mnaQ9BM5Za",
        "outputId": "83e4ab3f-d19b-4e67-8e6f-e068b94e50a9"
      },
      "outputs": [
        {
          "output_type": "stream",
          "name": "stdout",
          "text": [
            "Ultralytics 8.3.158 🚀 Python-3.11.13 torch-2.6.0+cu124 CUDA:0 (Tesla T4, 15095MiB)\n",
            "Setup complete ✅ (2 CPUs, 12.7 GB RAM, 41.5/112.6 GB disk)\n"
          ]
        }
      ],
      "source": [
        "%pip install ultralytics\n",
        "import ultralytics\n",
        "ultralytics.checks()"
      ]
    },
    {
      "cell_type": "markdown",
      "metadata": {
        "id": "naw_F252Nr8Q"
      },
      "source": [
        "# 1. Predict ( Test Setup YOLO11)\n",
        "\n",
        "YOLOv8 may be used directly in the Command Line Interface (CLI) with a `yolo` command for a variety of tasks and modes and accepts additional arguments, i.e. `imgsz=640`. See a full list of available `yolo` [arguments](https://docs.ultralytics.com/usage/cfg/) and other details in the [YOLO11 Predict Docs](https://docs.ultralytics.com/modes/train/)."
      ]
    },
    {
      "cell_type": "code",
      "execution_count": 3,
      "metadata": {
        "colab": {
          "base_uri": "https://localhost:8080/"
        },
        "id": "Kf3bol6RNpYv",
        "outputId": "e5561bbc-e45d-407c-a681-494276e3717c"
      },
      "outputs": [
        {
          "output_type": "stream",
          "name": "stdout",
          "text": [
            "Ultralytics 8.3.158 🚀 Python-3.11.13 torch-2.6.0+cu124 CUDA:0 (Tesla T4, 15095MiB)\n",
            "YOLO11s summary (fused): 100 layers, 9,443,760 parameters, 0 gradients, 21.5 GFLOPs\n",
            "\n",
            "Downloading https://ultralytics.com/images/zidane.jpg to 'zidane.jpg'...\n",
            "100% 49.2k/49.2k [00:00<00:00, 10.1MB/s]\n",
            "image 1/1 /content/zidane.jpg: 384x640 2 persons, 2 ties, 46.3ms\n",
            "Speed: 2.0ms preprocess, 46.3ms inference, 181.8ms postprocess per image at shape (1, 3, 384, 640)\n",
            "Results saved to \u001b[1mruns/detect/predict2\u001b[0m\n",
            "💡 Learn more at https://docs.ultralytics.com/modes/predict\n"
          ]
        }
      ],
      "source": [
        "# Run inference on an image with YOLOv11s\n",
        "!yolo predict model=yolo11s.pt source='https://ultralytics.com/images/zidane.jpg'"
      ]
    },
    {
      "cell_type": "markdown",
      "metadata": {
        "id": "uTjwhBCRO3_g"
      },
      "source": [
        "# 2. Add Zip Data Export YOLO11 for Roboflow"
      ]
    },
    {
      "cell_type": "code",
      "execution_count": null,
      "metadata": {
        "id": "d3MBBJ4nO4_G"
      },
      "outputs": [],
      "source": [
        "import zipfile\n",
        "from google.colab import files\n",
        "\n",
        "%cd /content\n",
        "uploaded = files.upload()\n",
        "for filename in uploaded.keys():\n",
        "  pass\n",
        "\n",
        "zip_ref = zipfile.ZipFile(filename, 'r')\n",
        "zip_ref.extractall(\"/content/\")"
      ]
    },
    {
      "cell_type": "markdown",
      "metadata": {
        "id": "b9o9EVrvO7iQ"
      },
      "source": [
        "# 3. Train Data Roboflow"
      ]
    },
    {
      "cell_type": "code",
      "execution_count": null,
      "metadata": {
        "id": "CjQXF2dQO7RZ"
      },
      "outputs": [],
      "source": [
        "# Validate YOLOv11s\n",
        "!yolo train model=yolo11s.pt data=data.yaml epochs=100 imgsz=640"
      ]
    },
    {
      "cell_type": "markdown",
      "metadata": {
        "id": "7QW2hdQnJl10"
      },
      "source": [
        "# 4. Test Model Training"
      ]
    },
    {
      "cell_type": "code",
      "execution_count": null,
      "metadata": {
        "id": "OR0b7K-OJmtg"
      },
      "outputs": [],
      "source": [
        "!yolo detect predict model=/content/runs/detect/train/weights/best.pt conf=0.8 imgsz=640 source='/content/test/images/'"
      ]
    },
    {
      "cell_type": "markdown",
      "metadata": {
        "id": "lCODJpDwJrYP"
      },
      "source": [
        "# 5. Test Video for Model Ai"
      ]
    },
    {
      "cell_type": "code",
      "execution_count": null,
      "metadata": {
        "id": "e-GonltxVAVp"
      },
      "outputs": [],
      "source": [
        "!yolo detect predict model=/content/runs/detect/train/weights/best.pt  conf=0.8 imgsz=640 source='/content/drive/MyDrive/1A/DataTestENV2.mp4'"
      ]
    }
  ],
  "metadata": {
    "accelerator": "GPU",
    "colab": {
      "gpuType": "T4",
      "provenance": []
    },
    "kernelspec": {
      "display_name": "Python 3",
      "name": "python3"
    },
    "language_info": {
      "name": "python"
    }
  },
  "nbformat": 4,
  "nbformat_minor": 0
}